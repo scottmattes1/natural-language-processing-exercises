{
 "cells": [
  {
   "cell_type": "code",
   "execution_count": 1,
   "id": "34ea8d2e",
   "metadata": {},
   "outputs": [],
   "source": [
    "# Initial imports\n",
    "import pandas as pd\n",
    "from bs4 import BeautifulSoup\n",
    "from requests import get\n",
    "from os import path"
   ]
  },
  {
   "cell_type": "markdown",
   "id": "4abd2ebf",
   "metadata": {},
   "source": [
    "## Visit Codeup's Blog and record the urls for at least 5 distinct blog posts. For each post, you should scrape at least the post's title and content.\n",
    "## Encapsulate your work in a function named get_blog_articles that will return a list of dictionaries, with each dictionary representing one article. The shape of each dictionary should look like this:\n",
    "\n",
    "{\n",
    "    'title': 'the title of the article',\n",
    "    'content': 'the full text content of the article'\n",
    "}\n",
    "Plus any additional properties you think might be helpful.\n",
    "Bonus: Scrape the text of all the articles linked on codeup's blog page."
   ]
  },
  {
   "cell_type": "code",
   "execution_count": 2,
   "id": "68d72ecd",
   "metadata": {},
   "outputs": [],
   "source": [
    "def get_blog_articles():\n",
    "    \"\"\"\n",
    "    Acquires the title and content of 5 Codeup blog posts. Returns a list of dictionaries where each element represents an article\n",
    "    \"\"\"\n",
    "    # Intiate the results list\n",
    "    results = []\n",
    "    \n",
    "    # Iterate through the urls that were taken as an argument\n",
    "    for url in urls:\n",
    "        # Set the headers to give us access\n",
    "        headers = {'User-Agent': 'Mozilla/5.0 (Windows NT 10.0; Win64; x64) AppleWebKit/537.36 (KHTML, like Gecko) Chrome/58.0.3029.110 Safari/537.3'}\n",
    "        # Take in the url's html file\n",
    "        response = get(url, headers=headers)\n",
    "        # Format in beautfulsoup\n",
    "        bs = BeautifulSoup(response.text)\n",
    "        # Create a dictionary of the title and content\n",
    "        content = dict(title = bs.h1.text, content = '\\n'.join([p.text for p in bs.find_all('p')]))\n",
    "        # Append the results to the list of dictionaries\n",
    "        results.append(content)\n",
    "        \n",
    "    return results"
   ]
  },
  {
   "cell_type": "code",
   "execution_count": 12,
   "id": "531cfd38",
   "metadata": {},
   "outputs": [],
   "source": [
    "urls = ['https://codeup.edu/alumni-stories/how-i-paid-43-for-my-codeup-tuition/',\n",
    "        'https://codeup.edu/data-science/where-do-data-scientists-come-from/',\n",
    "        'https://codeup.edu/data-science/codeups-data-science-career-accelerator-is-here/',\n",
    "        'https://codeup.edu/featured/women-in-tech-panelist-spotlight/',\n",
    "        'https://codeup.edu/codeup-news/women-in-tech-panelist-spotlight-sarah-mellor/'\n",
    "       ]"
   ]
  },
  {
   "cell_type": "code",
   "execution_count": 13,
   "id": "1ed124de",
   "metadata": {},
   "outputs": [
    {
     "data": {
      "text/plain": [
       "[{'title': 'How I Paid $43 For My Codeup Tuition',\n",
       "  'content': 'Nov 27, 2019 | Alumni Stories\\nBootcamps or career accelerator programs are short term education programs designed to help you learn new skills and find a job. If you are thinking about attending one, I will share some tips about finding a bootcamp, my story about how I chose to attend Codeup in San Antonio, TX and how I got funding to attend.\\nMy first tip is to spend at least a few months to a year researching the topic you want to study and the bootcamps available. There are tons of resources online to learn programming. I will provide a detailed table below of the courses I took, most of which are free. While you are learning the basics, start to learn about the bootcamps that teach this subject, read through bootcamp curriculum, take notes on tuition costs and start dates and note whether or not they provide scholarships. This first step is crucial for figuring out if this topic is something you are genuinely interested in.\\nSecondly, when you start researching bootcamps, you will find that cost of tuition can be high. The best strategy is to look simultaneously look for funding and bootcamps. First look locally and seek out local and federal grants to attend based on being under-employed, unemployed or under-represented in the field (minorities). I was only able to find funding because I met with a local career training program which enabled me to access local and Department of Labor funds. If you don’t meet the criteria of being being under-employed, unemployed or under-represented in the field, then don’t worry! There are still other scholarships and loans out there.\\nWarning!—only start to contact/call up the bootcamps when you are comfortable with your basic skills in programming (or whatever you are trying to learn) and when you are committed to attending. Bootcamp admissions will aggressively seek you out. They want you to attend their courses. You should have clear intentions about what you want to do, how much money you want to spend, and how good you are at programming. Just be honest with the people you speak to about your circumstances. This is a process so take your time. Often, if you get rejected from a bootcamp, you can still re-apply later.\\nLastly, there are almost always loan companies that specialize in loan for students of bootcamps. If the cost of tuition is still prohibitive, you can consider loans as your last option. In most cases, these loans can be repaid easily with the job you will (hopefully, most likely) get after you graduate. Some bootcamps offer refunds if you don’t get a job (with conditions) and others offer deferred tuition where you don’t pay anything until you get your first job.\\nAs for my experience, I learned about Data Science online and spent 10 months researching the subject and bootcamps. I took a slew of courses online to learn the basics, which I will share below. Then I started to apply to bootcamps. Ultimately, I was able to find Codeup in my hometown. I visited their campus and spoke with their admissions representative about funding. I loved that this school was in my hometown, so it was a practical choice for a full-time program. I also liked the instructors and admissions people that I met. The admissions person told me about their funding options and sent me to a local career training program, which informed me about local and federal grants that were not easily accessible online. Working with this local program was long and uncertain but I stuck with it. The real reasons I was able to get funding through them were because I had been under-employed for years, I had used up all my savings, I was living at home with family and I was unemployed at the time that I applied for the funding. In the end, I chose Codeup because I was able to find funding, it was in my hometown and I genuinely liked the people I met there, especially Maggie Giust, the Senior Data Scientist.\\nI will share a table of the exact funding amounts that I got below. This will probably not be the norm. I got extremely lucky with my funding.\\nAll in all, this whole process is precarious, scary and hard. You should give yourself plenty of time to research and learn about the process, the bootcamps and the subject you are trying to study.\\nIf you need any advice, please feel free to contact me directly. And if this was helpful please send it along to anyone you think would benefit from it.\\nhttps://www.switchup.org/\\nhttps://www.coursereport.com/best-coding-bootcamps\\nBasic HTML and HTML5 and CSS,\\xa0FreeCodeCamp.org\\nThe Open Source Data Science Masters, Created by Clare Corthell,\\xa0http://datasciencemasters.org/\\nList of 5-Day Data Challenges, Kaggle,\\xa0https://www.kaggle.com/rtatman/list-of-5-day-challenges/\\nSiraj Raval, How-To Videos and Curriculum on Github and Youtube,\\xa0https://github.com/llSourcell/Learn_Data_Science_in_3_Months\\nCodeup is proud to offer a variety of scholarships, grant and loan partners. To find out more information, visit our Financial Aid.\\n\\nJesse Ruiz is a data scientist, designer, and artist. She was born in Seoul, South Korea and raised in Texas. She has degrees in philosophy and art from Barnard College and the University of Wisconsin – Madison and received training in data science at Codeup in San Antonio, TX.\\nConnect with her on Linkedin or read more of her work here.\\n\\xa0\\n\\n\\n\\nSubmit your email address to gain access to more information about our programs, financial aid, and benefits.\\n(210) 802–7289\\nDallas | San Antonio\\n© 2013-2022 Copyright. Privacy Policy | Complaint Policy | Inclusion | Accessibility | Sitemap\\nIf you love researching data and reading the fine print, you’ll do well in our programs.\\nGI Bill® is a registered trademark of the U.S. Department of Veterans Affairs (VA). More information about education benefits offered by VA is available at the official U.S. government Web site at https://www.benefits.va.gov/gibill.\\nCodeup is accredited for postsecondary, non-degree granting, career and technology programs by the Middle States Commission on Secondary Schools of the Middle States Association of Colleges and Schools, 3624 Market Street, Philadelphia, PA 19104, (267) 284-5000\\n\\n\\n'},\n",
       " {'title': 'Where Do Data Scientists Come From?',\n",
       "  'content': 'Oct 24, 2018 | Data Science\\nBy Dimitri Antinou\\nOver the last few blog posts, we’ve answered a lot of questions around Data Science: What is it? What’s the difference from data analytics? Which type of program is right for me? If you’re interested in becoming a data scientist, you might be wondering how other people got into the field. Given how new the profession is, most of today’s practitioners probably didn’t study data science formally as undergraduate or graduate students. So today we’re asking: where do data scientists come from?\\nLet’s start broadly by defining the possible pathways into this career. If you’re a Data Scientist, you probably followed one or more of these paths:\\nEach of these pathways has unique advantages and disadvantages across variables like cost, formal credential, length, and pace. A free online program is free and accessible, but takes a lot of dedication to follow through and is harder to change careers with. A bootcamp specializes in quick and efficient job outcomes, but is a big investment. A university offers a formal degree and dives deeper, but is more expensive and takes longer. \\nEach of these pathways also leaves gaps against the complete picture of a data scientist. From your training you might be missing components like: working with real data sets, understanding industry and company demands, using up-to-date technologies, or even just knowing what you don’t know! What’s important to understand here is that different pathways yield strengths and gaps. Your job is to find, acknowledge, and improve your gap areas!\\nNow that we have a framework for understanding potential pathways, let’s look at some data. In preparing to launch Codeup’s immersive Data Science program, we researched over 250 data scientist profiles on LinkedIn and analyzed their educational and career histories. Here’s what we found!\\n95% have a Bachelor’s Degree, 70% have a Master’s Degree, and 27% have a PhD. Of those degrees, the most represented areas of study are: math, stats, business, engineering, and CS.\\nData Scientists come from an incredibly diverse range of professional backgrounds: psychology research, software development, business analyst, mechanical engineering, and more! We saw a few prominent patterns in our data:\\n\\nA third component of our research was to interview practicing Data Scientists. We asked questions like: What was your path to the field? What did you study? Is there a need for programs like Codeup? What are the most important skills to learn? After conducting these interviews, we had three valuable lenses to understand the paths into Data Science: educational histories, career histories, and first-hand qualitative research. From these three, we compiled 5 archetypal Data Scientist personas!\\n\\xa0\\n\\nIf you see yourself in any of this research, you might be on the path to becoming a Data Scientist! Still have questions? Reach out to us at (210) 802-7289 or DataScience@codeup.com! Wondering which of Codeup’s programs is right for you? We’ve got you covered. And of course, if data science gets you excited, get started with us today at tribucodeup.wpengine.com/apply!\\n\\xa0\\n\\n\\n\\nSubmit your email address to gain access to more information about our programs, financial aid, and benefits.\\n(210) 802–7289\\nDallas | San Antonio\\n© 2013-2022 Copyright. Privacy Policy | Complaint Policy | Inclusion | Accessibility | Sitemap\\nIf you love researching data and reading the fine print, you’ll do well in our programs.\\nGI Bill® is a registered trademark of the U.S. Department of Veterans Affairs (VA). More information about education benefits offered by VA is available at the official U.S. government Web site at https://www.benefits.va.gov/gibill.\\nCodeup is accredited for postsecondary, non-degree granting, career and technology programs by the Middle States Commission on Secondary Schools of the Middle States Association of Colleges and Schools, 3624 Market Street, Philadelphia, PA 19104, (267) 284-5000\\n\\n\\n'},\n",
       " {'title': 'Codeup’s Data Science Career Accelerator is Here!',\n",
       "  'content': 'Sep 30, 2018 | Data Science\\nThe rumors are true! The time has arrived. Codeup has officially opened applications to our new Data Science career accelerator, with only 25 seats available! This immersive program is one of a kind in San Antonio, and will help you land a job in\\xa0Glassdoor’s #1 Best Job in America.\\nData Science is a method of providing actionable intelligence from data.\\xa0The data revolution has hit San Antonio,\\xa0resulting in an explosion in Data Scientist positions\\xa0across companies like USAA, Accenture, Booz Allen Hamilton, and HEB. We’ve even seen\\xa0UTSA invest $70 M for a Cybersecurity Center and School of Data Science.\\xa0We built a program to specifically meet the growing demands of this industry.\\nOur program will be 18 weeks long, full-time, hands-on, and project-based. Our curriculum development and instruction is led by Senior Data Scientist, Maggie Giust, who has worked at HEB, Capital Group, and Rackspace, along with input from dozens of practitioners and hiring partners. Students will work with real data sets, realistic problems, and the entire data science pipeline from collection to deployment. They will receive professional development training in resume writing, interviewing, and continuing education to prepare for a smooth transition to the workforce.\\nWe focus on applied data science for immediate impact and ROI in a business, which is how we can back it all up with a 6 month tuition refund guarantee – just like our existing Web Dev program. We’re focusing on Data Science with Python, SQL, and ML, covered in\\xa014 modules: 1) Fundamentals; 2) Applied statistics; 3) SQL; 4) Python; 5) Supervised machine learning – regression; 6) Supervised machine learning – classification; 7) Unsupervised machine learning – clustering; 8) Time series analysis; 9) Anomaly detection; 10) Natural language processing; 11) Distributed machine learning; 12) Advanced topics (deep learning, NoSQL, cloud deployment, etc.); 13) Storytelling with data; and 14) Domain expertise development.\\nApplications are now open\\xa0for Codeup’s first Data Science cohort, which will start class on February 4, 2019. Hurry – there are only 25 seats available! To further our mission of cultivating inclusive growth, scholarships will be available to women, minorities, LGBTQIA+ individuals, veterans, first responders, and people relocating to San Antonio.\\nIf you want to learn about joining our program or hiring our graduates, email datascience@codeup.com!\\n\\n\\n\\nSubmit your email address to gain access to more information about our programs, financial aid, and benefits.\\n(210) 802–7289\\nDallas | San Antonio\\n© 2013-2022 Copyright. Privacy Policy | Complaint Policy | Inclusion | Accessibility | Sitemap\\nIf you love researching data and reading the fine print, you’ll do well in our programs.\\nGI Bill® is a registered trademark of the U.S. Department of Veterans Affairs (VA). More information about education benefits offered by VA is available at the official U.S. government Web site at https://www.benefits.va.gov/gibill.\\nCodeup is accredited for postsecondary, non-degree granting, career and technology programs by the Middle States Commission on Secondary Schools of the Middle States Association of Colleges and Schools, 3624 Market Street, Philadelphia, PA 19104, (267) 284-5000\\n\\n\\n'},\n",
       " {'title': 'Women in tech: Panelist Spotlight – Magdalena Rahn',\n",
       "  'content': 'Mar 28, 2023 | Events, Featured\\nCodeup is hosting a Women in Tech Panel in honor of Women’s History Month on March 29th, 2023! To further celebrate, we’d like to spotlight each of our panelists leading up to the discussion to learn a bit about their respective experiences as women in the tech industry!\\n\\nMeet Magdalena!\\nMagdalena Rahn is a current Codeup student in a Data Science cohort in San Antonio, Texas. She has a professional background in cross-cultural communications, international business development, the wine industry and journalism. After serving in the US Navy, she decided to complement her professional skill set by attending the Data Science program at Codeup; she is set to graduate in March 2023. Magdalena is fluent in French, Bulgarian, Chinese-Mandarin, Spanish and Italian.\\nWe asked Magdalena how Codeup impacted her career, and she replied “Codeup has provided a solid foundation in analytical processes, programming and data science methods, and it’s been an encouragement to have such supportive instructors and wonderful classmates.”\\nDon’t forget to tune in on March 29th to sit in on an insightful conversation with Magdalena.\\n\\n\\n\\nSubmit your email address to gain access to more information about our programs, financial aid, and benefits.\\n(210) 802–7289\\nDallas | San Antonio\\n© 2013-2022 Copyright. Privacy Policy | Complaint Policy | Inclusion | Accessibility | Sitemap\\nIf you love researching data and reading the fine print, you’ll do well in our programs.\\nGI Bill® is a registered trademark of the U.S. Department of Veterans Affairs (VA). More information about education benefits offered by VA is available at the official U.S. government Web site at https://www.benefits.va.gov/gibill.\\nCodeup is accredited for postsecondary, non-degree granting, career and technology programs by the Middle States Commission on Secondary Schools of the Middle States Association of Colleges and Schools, 3624 Market Street, Philadelphia, PA 19104, (267) 284-5000\\n\\n\\n'},\n",
       " {'title': 'Women in Tech: Panelist Spotlight – Sarah Mellor',\n",
       "  'content': 'Mar 13, 2023 | Codeup News, Featured\\nCodeup is hosting a Women in Tech Panel in honor of Women’s History Month on March 29th, 2023! To further celebrate, we’d like to spotlight each of our panelists leading up to the discussion to learn a bit about their respective experiences as women in the tech industry!\\nMeet Sarah!\\nSarah Mellor currently works as the Director of People Operations. She joined Codeup four and a half years ago as an Admissions Manager. She went on to build out and lead the Marketing and Admissions team, while picking up People Ops tasks and projects here and there until moving over to lead the People Ops team two years ago. Prior to Codeup, she worked at education-focused non-profits in Washington, DC and Boulder, Colorado. She graduated from Wake Forest University.\\nWe asked Sarah how Codeup has impacted her career, and her response was “I have absolutely loved having the privilege to grow alongside Codeup. In my time here across multiple different roles and departments, I’ve seen a lot of change. The consistent things have always been the high quality of passionate and hardworking people I get to work with; the impactful mission we get to work on; and the inspiring students who trust us with their career change.”\\nDon’t forget to tune in on March 29th to sit in on an insightful conversation.\\n\\n\\n\\nSubmit your email address to gain access to more information about our programs, financial aid, and benefits.\\n(210) 802–7289\\nDallas | San Antonio\\n© 2013-2022 Copyright. Privacy Policy | Complaint Policy | Inclusion | Accessibility | Sitemap\\nIf you love researching data and reading the fine print, you’ll do well in our programs.\\nGI Bill® is a registered trademark of the U.S. Department of Veterans Affairs (VA). More information about education benefits offered by VA is available at the official U.S. government Web site at https://www.benefits.va.gov/gibill.\\nCodeup is accredited for postsecondary, non-degree granting, career and technology programs by the Middle States Commission on Secondary Schools of the Middle States Association of Colleges and Schools, 3624 Market Street, Philadelphia, PA 19104, (267) 284-5000\\n\\n\\n'}]"
      ]
     },
     "execution_count": 13,
     "metadata": {},
     "output_type": "execute_result"
    }
   ],
   "source": [
    "# Test the function\n",
    "articles = get_blog_articles(urls)\n",
    "articles"
   ]
  },
  {
   "cell_type": "code",
   "execution_count": 15,
   "id": "c8467fdd",
   "metadata": {},
   "outputs": [],
   "source": [
    "# Make it a dataframe, just for fun\n",
    "df = pd.DataFrame(articles)"
   ]
  },
  {
   "cell_type": "code",
   "execution_count": 16,
   "id": "91c1589f",
   "metadata": {},
   "outputs": [],
   "source": [
    "df.to_csv('blog.csv')"
   ]
  },
  {
   "cell_type": "markdown",
   "id": "17ed11d4",
   "metadata": {},
   "source": [
    "# Write a function that scrapes the news articles for the following topics:\n",
    "Business\n",
    "Sports\n",
    "Technology\n",
    "Entertainment\n",
    "The end product of this should be a function named get_news_articles that returns a list of dictionaries, where each dictionary has this shape:\n",
    "\n",
    "{\n",
    "    'title': 'The article title',\n",
    "    'content': 'The article content',\n",
    "    'category': 'business' # for example\n",
    "}\n",
    "Hints:\n",
    "Start by inspecting the website in your browser. Figure out which elements will be useful.\n",
    "Start by creating a function that handles a single article and produces a dictionary like the one above.\n",
    "Next create a function that will find all the articles on a single page and call the function you created in the last step for every article on the page.\n",
    "Now create a function that will use the previous two functions to scrape the articles from all the pages that you need, and do any additional processing that needs to be done."
   ]
  },
  {
   "cell_type": "code",
   "execution_count": 1,
   "id": "d7bc9111",
   "metadata": {},
   "outputs": [],
   "source": [
    "def get_news_articles():\n",
    "    \"\"\"\n",
    "    Scrapes news articles from provided URLs and returns their title, content, and category in a dataframe\n",
    "    \"\"\"\n",
    "    results = []\n",
    "    \n",
    "    # Iterate through the list of urls that were taken as an argument\n",
    "    for url in urls:\n",
    "        # Take in the urls html file\n",
    "        response = get(url)\n",
    "        # Convert it to beautifulsoup format\n",
    "        soup = BeautifulSoup(response.text, 'html.parser')\n",
    "        # Make a list of all the headlines on the page\n",
    "        headlines = soup.find_all('span', itemprop=\"headline\")\n",
    "        # Make a list of all the article content on the page\n",
    "        articles = soup.find_all('div', itemprop=\"articleBody\")\n",
    "        # Grab the category from the end of the url\n",
    "        category = url.split('/')[-1]\n",
    "        \n",
    "        # For the number of headlines there are in the url, create a dictionary of the title, content, and category\n",
    "        for i in range(len(headlines)):\n",
    "            article = {\n",
    "                'title': headlines[i].text,\n",
    "                'article': articles[i].text,\n",
    "                'category': category\n",
    "            }\n",
    "            # Append the results to a list\n",
    "            results.append(article)\n",
    "    \n",
    "#     # Cast the results to a dataframe\n",
    "#     results_df = pd.DataFrame(results)\n",
    "    \n",
    "    return results"
   ]
  },
  {
   "cell_type": "code",
   "execution_count": 6,
   "id": "a313c421",
   "metadata": {},
   "outputs": [],
   "source": [
    "# List of URLs to scrape\n",
    "urls = [\n",
    "    'https://inshorts.com/en/read/business',\n",
    "    'https://inshorts.com/en/read/sports',\n",
    "    'https://inshorts.com/en/read/technology',\n",
    "    'https://inshorts.com/en/read/entertainment'\n",
    "]"
   ]
  },
  {
   "cell_type": "code",
   "execution_count": 7,
   "id": "44e4cf4c",
   "metadata": {},
   "outputs": [
    {
     "data": {
      "text/plain": [
       "[{'title': 'Antfin transfers 10.3% stake to Paytm chief Vijay Shekhar Sharma',\n",
       "  'article': 'Antfin (Netherlands) Holding BV has transferred its 10.3% stake in One97 Communications to Founder Vijay Shekhar Sharma, a regulatory filing said. The deal turns One97 Communications, which operates under Paytm brand name, into a majorly Indian-owned company from being majorly owned by Chinese entities. The transaction was completed on August 14, which brought total stake of Antfin to 13.49%. \\n',\n",
       "  'category': 'business'},\n",
       " {'title': 'Nepal asks India for rice, sugar to avert possible food scarcity',\n",
       "  'article': 'Nepal government has requested India to facilitate the supply of paddy, rice and sugar as a precautionary measure to mitigate any possible food scarcity in the festive season—October and November. \"Nepal has requested India to provide one million tonnes of paddy, 100,000 tonnes of rice and 50,000 tonnes of sugar,\" Commerce and Supplies Ministry Joint Secretary Ram Chandra Tiwari said.',\n",
       "  'category': 'business'},\n",
       " {'title': 'GQG Partners buys 8.1% stake in Adani Power for $1.1 bn: Report',\n",
       "  'article': 'Investment firm GQG Partners bought an 8.1% stake in Adani Power for $1.1 billion via block deals on Wednesday, Reuters cited a source as saying. Multiple GQG funds bought around 152.1 million shares, BSE data showed, from Worldwide Emerging Market Holding and Afro Asia Trade and Investments. The investment comes days after Deloitte quit as auditor for Adani Ports.',\n",
       "  'category': 'business'},\n",
       " {'title': 'USDA cuts rice trade forecast for 2023, 2024 post India export ban',\n",
       "  'article': \"US Department of Agriculture (USDA) lowered the global rice trade forecast for calendar years 2023 and 2024 following India's ban on exports of non-basmati white rice. Trade estimate has been lowered by two million tonnes for 2023 and by 3.44 million tonnes for 2024. India accounts for over 40% of global rice exports, which was 56 million tonnes in 2022. \",\n",
       "  'category': 'business'},\n",
       " {'title': \"Hyundai to buy General Motors' Talegaon plant in Maharashtra\",\n",
       "  'article': 'Hyundai Motor India signed an asset purchase agreement to buy Talegaon plant of General Motors\\' India unit in Maharashtra to boost production. The buyout is expected to increase Hyundai\\'s annual production capacity to 10 lakh units, which was recently scaled up to 8.2 lakh. \"We intend to create an advanced manufacturing centre for cars Made-in-India,\" Hyundai Motor India MD said.',\n",
       "  'category': 'business'},\n",
       " {'title': \"Nifty50 firms chiefs' average remuneration drops by 25% in FY23\",\n",
       "  'article': \"Combined remuneration for the heads of the Nifty50 companies fell about 25% to ₹1,066 crore in FY23 as technology and promoter-led companies cut down employee expenses, CNBC-TV18 reported. A ₹350 crore reduction in overall compensation of Nifty companies also brought down CEOs' average remuneration to ₹21.3 crore in FY23 against ₹28.3 crore in FY22, data compiled from annual reports showed.\",\n",
       "  'category': 'business'},\n",
       " {'title': 'H&M probes labour abuses at Myanmar garment factories: Report',\n",
       "  'article': 'H&M is investigating 20 alleged instances of labour abuse at Myanmar garment factories, Reuters reported. A British human rights advocacy group tracked 156 cases of alleged worker abuses in Myanmar garment factories from February 2022 to February 2023. Wage reduction and wage theft were the most frequently reported allegations, followed by unfair dismissal, inhumane work rates and forced overtime.',\n",
       "  'category': 'business'},\n",
       " {'title': 'Irish bank glitch lets people with no money withdraw up to ₹90,000',\n",
       "  'article': \"A glitch in Bank of Ireland's app allowed customers with low balances or no money in accounts to transfer up to €1,000 (around ₹90,000) into a linked account with a digital banking app, that could be withdrawn via ATMs. Several people rushed to the ATMs following the glitch. The bank warned the withdrawn money would be debited from their accounts.\",\n",
       "  'category': 'business'},\n",
       " {'title': 'Union Cabinet approves ₹32,500 crore for seven railway projects',\n",
       "  'article': 'Union Cabinet approved a ₹32,500-crore budget for seven railway projects, estimated to add 2,339 km to the existing network of Indian Railways, Union Minister Ashwini Vaishnaw said. The projects will help increase existing line capacity, smoothen train operations and reduce congestion, he added. Uttar Pradesh, Bihar, Telangana, Gujarat, Odisha and West Bengal are set to benefit from the projects.',\n",
       "  'category': 'business'},\n",
       " {'title': 'Netherlands slips into recession        ',\n",
       "  'article': \"The Dutch economy has entered a recession as it shrank 0.3% on a quarterly basis in the second quarter, a first estimate published by Statistics Netherlands showed on Wednesday. The euro zone's fifth-largest economy shrank for the second consecutive quarter, after a 0.4% contraction in the first three months of the year.\",\n",
       "  'category': 'business'},\n",
       " {'title': \"India's Gukesh D, Vidit Gujrathi crash out of Chess World Cup in quarter-finals\",\n",
       "  'article': \"India's Gukesh D and Vidit Gujrathi have crashed out of the Chess World Cup 2023 in quarter-finals. Gukesh D lost his quarter-final match against world number one Magnus Carlsen 0.5-1.5. Meanwhile, Vidit lost his match against Azerbaijani Grandmaster Nijat Abasov 0.5-1.5. Meanwhile, Arjun Erigaisi and Praggnanandhaa R's quarter-final will be decided after tiebreaks on Thursday.\",\n",
       "  'category': 'sports'},\n",
       " {'title': 'After scoring 369 runs in 2 matches, Shaw ruled out of One-Day Cup due to knee injury',\n",
       "  'article': \"Northamptonshire's Indian batter Prithvi Shaw has been ruled out of the ongoing One-Day Cup in England after injuring his knee. Shaw is currently being monitored by the BCCI's medical team and is set to meet a specialist in London on Friday. Shaw had scored 369 runs in his previous two matches in the One-Day Cup.\",\n",
       "  'category': 'sports'},\n",
       " {'title': 'I do not make the pitch, I do not roll the pitch: Ashwin on rank turners in India',\n",
       "  'article': 'Talking about rank turners in India, all-rounder Ravichandran Ashwin said, \"I do not make the pitch, I do not roll the pitch and I just play on the pitch that is given to me.\" He added, \"Decision to play on...pitch is taken by...team management in...best interest of the team. The pitch is the same for Jaddu, Nathan Lyon or me.\"',\n",
       "  'category': 'sports'},\n",
       " {'title': 'Kishan flaunts his new MS Dhoni-like look with faux hawk hairstyle, fans react',\n",
       "  'article': 'Team India wicketkeeper-batter Ishan Kishan took to Instagram to flaunt his new MS Dhoni-like look with faux hawk hairstyle ahead of Asia Cup 2023. Dhoni had donned the look in 2021. Reacting to his picture, a fan wrote, \"Inspired by MS Dhoni.\" Another wrote, \"I have seen this before.\" Another user wrote, \"MS Dhoni continues to motivate youngsters even here.\"',\n",
       "  'category': 'sports'},\n",
       " {'title': 'Imran is our greatest player: Ex-Pak captain Mumtaz on PCB video',\n",
       "  'article': 'Talking about Pakistan\\'s 1992 World Cup-winning captain Imran Khan being left out of tribute video shared by Pakistan Cricket Board (PCB), ex-Pakistan captain Urooj Mumtaz Khan tweeted that there wasn\\'t any picture or mention of Pakistan\\'s greatest player. \"[There were] 11 images of 1992 World Cup win...Imran will go down...as one of the greats of the global game!\" she added.',\n",
       "  'category': 'sports'},\n",
       " {'title': 'Was smashed for sixes, had to learn a lot: Ashwin on 1st Aus tour',\n",
       "  'article': 'Talking about his first tour of Australia in 2011, India spinner Ravichandran Ashwin said, \"I had to learn a lot of little things...My coach taught me that if a batter bats well...spin the ball really hard.\" \"I\\'d try to spin hard and even harder on being hit for fours and sixes,\" he added. \"That was all I knew,\" stated Ashwin.',\n",
       "  'category': 'sports'},\n",
       " {'title': 'Kohli demanded excellence, current team lacks ruthlessness: Sandhu',\n",
       "  'article': 'Ex-India cricketer Balwinder Singh Sandhu, who was part of India\\'s 1983 World Cup winning team, said Virat Kohli would demand excellence from players during his tenure. \"It appears the [current team] lacks the ruthlessness and aggression which earlier Indian teams had. At the heart of these two qualities was effective leadership,\" he added. \"Being ruthless...should be interval-less,\" he stated.',\n",
       "  'category': 'sports'},\n",
       " {'title': \"Dhawan doesn't get credit, he was missed in 2019 WC semi: Shastri\",\n",
       "  'article': 'Ex-Team India head coach Ravi Shastri said batter Shikhar Dhawan doesn\\'t get the credit he deserves, adding that Dhawan was the missing man in the 2019 World Cup semi-final where India lost against New Zealand. \"A left-hander at the top of the order, as opposed to three right-handers, makes a huge difference when the ball is swinging,\" he stated.',\n",
       "  'category': 'sports'},\n",
       " {'title': \"I guess he will get his British passport soon, jokes Ashwin on Pujara's county stint\",\n",
       "  'article': 'Talking about Cheteshwar Pujara\\'s county cricket and one-day cricket stint in the UK, Ravichandran Ashwin said, \"Pujara is...going through an amazing run of form in the One-Day Cup.\" Ashwin added, \"I guess Pujara will get his British passport soon given the amount of time he is spending in England.\"',\n",
       "  'category': 'sports'},\n",
       " {'title': \"Ravichandran Ashwin clarifies his 'Now everybody is a colleague' remark\",\n",
       "  'article': 'Ravichandran Ashwin clarified his remark wherein he stated earlier all teammates used to be friends, but now everybody is a colleague. He stated, \"What I meant was...earlier, as...tours used to be long, there was more scope for friendship...but these days we\\'re constantly playing (different formats & teams).\" He added, \"When you\\'re playing for different teams...it\\'s very difficult to be friends.\"',\n",
       "  'category': 'sports'},\n",
       " {'title': \"I've been locked out of X for 17 days after refusing to meet Musk: NYU professor\",\n",
       "  'article': 'Scott Galloway, a Professor of Marketing at NYU Stern School of Business, has claimed that he\\'s been locked out of his account on X (formerly Twitter) for the last 17 days after he refused to meet X\\'s owner Elon Musk. \"A mutual friend reached out and said Elon feels \"unfairly attacked,\" by me, and wants to meet...I declined,\" Galloway said.',\n",
       "  'category': 'technology'},\n",
       " {'title': 'Scientists reconstruct Pink Floyd song from recorded brain waves',\n",
       "  'article': \"Researchers from the University of California, Berkeley, used brain waves of patients recorded during epilepsy surgery to recreate Pink Floyd's song 'Another Brick In The Wall, Part 1'. They used artificial intelligence (AI) techniques to decode the brain signals to reconstruct the song. This is the first time a song has been reconstructed from brain activity recordings, researchers said.\",\n",
       "  'category': 'technology'},\n",
       " {'title': \"Russia's Luna-25 spacecraft enters lunar orbit: Roscosmos\",\n",
       "  'article': \"Russia's lunar spacecraft entered the Moon's orbit on Wednesday, Russia's space corporate Roscosmos said. Luna-25 will circle the Moon, the Earth's only natural satellite, for around five days, then change course for a soft landing on the lunar south pole planned for August 21. The Luna-25 will aim to operate for a year on the south pole.\",\n",
       "  'category': 'technology'},\n",
       " {'title': \"Aditya-L1 to study the Sun's atmosphere, space climate: ISRO chief\",\n",
       "  'article': \"The Indian Space Research Organisation (ISRO) is launching its first solar mission Aditya-L1 to study the Sun. ISRO Chairman S Somanath said that the Aditya-L1 will be able to study the Sun's atmosphere, magnetic fields and space climate impacts. The mission will be placed in a halo orbit around Lagrange point 1, which is about 1.5 million kilometres from Earth.\\n\",\n",
       "  'category': 'technology'},\n",
       " {'title': 'Cabinet extends Digital India program with ₹14,903 crore outlay',\n",
       "  'article': 'The Cabinet has extended Digital India program with additional outlay of ₹14,903 crore, IT Minister Ashwini Vaishnaw said. The program will now include upskilling and reskilling of 5.25 lakh IT professionals, training of nearly 2.65 lakh people on information security and increasing government services on UMANG app from 1,700 to 2,240. Nine supercomputers will also be added under the program.',\n",
       "  'category': 'technology'},\n",
       " {'title': 'TweetDeck now called XPro, goes behind paywall; to cost ₹6,800/yr',\n",
       "  'article': 'XPro, earlier called TweetDeck, has been put behind a paywall by X (formerly known as Twitter). On Tuesday, several users who tried logging in to use XPro got a message that said, \"Blue subscribers with a verified phone number will get a blue checkmark once approved.\" The message showed that the annual XPro subscription is now for ₹6,800/year. ',\n",
       "  'category': 'technology'},\n",
       " {'title': 'Heartening: MoS Science on Chandrayaan-3 finishing lunar manoeuvre',\n",
       "  'article': 'After ISRO said it had successfully carried out final orbit reduction manoeuvre of Chandrayaan-3, MoS Science Jitendra Singh called it \"heartening\". \"This mission is going to achieve a number of firsts...When Chandrayaan-3 goes around [on] recce the south polar area...it might be possible that we might be able to achieve some more evidence of the presence of water,\" he added.',\n",
       "  'category': 'technology'},\n",
       " {'title': 'Why is Apple paying $500 million to select iPhone users?',\n",
       "  'article': \"Apple will start paying $500 million ($65 each) to select iPhone users to settle 'batterygate' class action lawsuit filed against the company in the US. Apple admitted iOS software slowed down older iPhones. Qualifying devices include iPhone 6 lineup and iPhone SE running iOS 10.2.1 or later and iPhone 7, 7 Plus running iOS 11.2 or later before December 2017.\",\n",
       "  'category': 'technology'},\n",
       " {'title': \"Tech has progressed faster in India compared to US: Intel's Sandra\",\n",
       "  'article': 'Intel\\'s Executive Vice President and General Manager for the Data Center and AI Group Sandra Rivera said that technology has progressed faster in India compared to the US and Israel. \"India has learned from the experiences of more mature markets and skipped over generations of technology that is not at the leading edge,\" she said.',\n",
       "  'category': 'technology'},\n",
       " {'title': '17 & 18-year-olds accused of hacking Nvidia, broadband provider BT',\n",
       "  'article': 'A 17 and an 18-year-old are accused of being \"key players\" in Lapsus$, which hacked servers and data files of broadband provider BT and mobile operator EE before demanding $4-million ransom in 2021. The 18-year-old, Arion Kurtaj, is also accused of targeting Uber and Rockstar Games, developer of Grand Theft Auto series. The duo is also accused of hacking Nvidia.',\n",
       "  'category': 'technology'},\n",
       " {'title': \"Aditya & Karan couldn't make better films than DDLJ & KKHH: Farida\",\n",
       "  'article': 'Actress Farida Jalal said she still feels that \\'Dilwale Dulhania Le Jayenge\\' was filmmaker Aditya Chopra\\'s best, while filmmaker Karan Johar\\'s best was \\'Kuch Kuch Hota Hai\\'. \"They could never make better films than that,\" she shared in an interview with Rajshri Unplugged. The actress recalled that she \"teared up during the narration\" of \\'Kuch Kuch Hota Hai\\'. ',\n",
       "  'category': 'entertainment'},\n",
       " {'title': 'I am seriously considering making Mahabharat: Vivek Agnihotri',\n",
       "  'article': 'Filmmaker Vivek Agnihotri said he is \"seriously considering\" making Mahabharat. \"I want to make it like mythology. If I\\'ve to make it, I will make it like history. Others are making something for the box office...I am going to make it for the people,\" he shared. The filmmaker added that Mahabharat was earlier made to \"glorify\" Arjun, Bheem and others.',\n",
       "  'category': 'entertainment'},\n",
       " {'title': \"Govt refutes report of Gadar 2 'VIP screening' for Prez, says 'it's a regular screening'\",\n",
       "  'article': 'Government has refuted report of an \"Exclusive VIP Screening\" of Sunny Deol\\'s \\'Gadar 2\\' for President Droupadi Murmu, adding, \"It is a regular screening that happens in Rashtrapati Bhavan.\" It said, \"President had not wished for any such special screening. [She] is not attending the screening.\" Reports earlier quoted director Anil Sharma expressing joy over the alleged screening request.',\n",
       "  'category': 'entertainment'},\n",
       " {'title': \"Salman Khan once called me a fat cow, said 'even I wouldn't give you work': Rohit Roy\",\n",
       "  'article': 'Speaking with Siddharth Kannan, Rohit Roy recalled a phase when he was frustrated with the kind of work he was doing. Rohit, who has known Salman Khan since he was 15, shared, \"I had put on...weight...I told Salman...I\\'m not happy...He...said \\'you look like a fat cow, even I wouldn\\'t give you...work\\'.\" Rohit said this led to his \"physical metamorphosis\".',\n",
       "  'category': 'entertainment'},\n",
       " {'title': \"Was offered Sidharth Shukla's season of Bigg Boss: Rapper Emiway\",\n",
       "  'article': 'Rapper Emiway Bantai shared he was offered \\'Bigg Boss\\' three times as a contestant. \"I was even offered [the season] when Sidharth Shukla and Asim Riaz were part of it. My manager asked...if I wanted to go...I said I don\\'t want to go there as...contestant,\" Emiway revealed. He added, \"Being a contestant isn\\'t my zone. I like being private.\"',\n",
       "  'category': 'entertainment'},\n",
       " {'title': 'Ranbir Kapoor buys Range Rover car worth ₹4 crore, pics surface',\n",
       "  'article': 'Actor Ranbir Kapoor has bought a new Range Rover car worth ₹4 crore. Visuals shared on social media showed the actor arriving at his home right after puja with garlands on his car. Apart from this car, Ranbir also owns a Land Rover Range Rover Sport, Audi A8 L, Mercedes Benz AMG G 63, among others.\\n\\n',\n",
       "  'category': 'entertainment'},\n",
       " {'title': \"SRK reacts to Gauri's post on Suhana, says she's 'so articulate'\",\n",
       "  'article': 'Shah Rukh Khan, reacting to Gauri Khan\\'s post on Suhana Khan, spoke about how \"circle of life is closing in for [them] with [their] babies helping [them] complete it\". \"You\\'ve done so well with the three of them. Educated them, taught them dignity & desire to share love...Suhana is so articulate but the dimple is mine,\" he wrote on X. ',\n",
       "  'category': 'entertainment'},\n",
       " {'title': 'Can be my authentic self with him: Alia on Ranbir amid backlash',\n",
       "  'article': 'Actress Alia Bhatt, during an Ask Me Anything session on Instagram, called Ranbir Kapoor her \"happy place\". \"I can be my...authentic self with him,\" she wrote. This response arrived after Alia said in an interview with Vogue India that Ranbir asks her to \"wipe off\" lipstick, a remark which was called out as \"misogynistic\" by some social media users. ',\n",
       "  'category': 'entertainment'},\n",
       " {'title': \"Alia talks about 'toxicity' amid criticism against Ranbir over 'lipstick' remark\",\n",
       "  'article': 'Alia Bhatt talked about \"toxicity and criticism\" hours after her actor-husband Ranbir Kapoor was criticised by people after she said in a Vogue video that he used to ask her to \"wipe off\" her lipstick before going on dates. \"Constructive criticism is...best...way to grow...Cultivate a life so full of love and gratitude that toxicity wouldn\\'t even reach you,\" she wrote.',\n",
       "  'category': 'entertainment'},\n",
       " {'title': 'Was 18, it was my homecoming as Miss Universe: Sushmita on old pic',\n",
       "  'article': 'Sushmita Sen, reacting to an old picture, recalled how it was taken after she returned to India post winning Miss Universe 1994. \"This is my homecoming as Miss Universe...I had an Indian flag...It\\'s a memory that I\\'m always going to hold. I [was] 18,\" she shared. On a picture with Mahesh Bhatt, Sushmita said she owes her career to him. \\n',\n",
       "  'category': 'entertainment'}]"
      ]
     },
     "execution_count": 7,
     "metadata": {},
     "output_type": "execute_result"
    }
   ],
   "source": [
    "# Call the function with the list of URLs\n",
    "news = get_news_articles(urls)\n",
    "news"
   ]
  },
  {
   "cell_type": "code",
   "execution_count": 9,
   "id": "1c5ddefe",
   "metadata": {},
   "outputs": [],
   "source": [
    "# Make it a dataframe just for fun\n",
    "df = pd.DataFrame(news)"
   ]
  },
  {
   "cell_type": "code",
   "execution_count": 10,
   "id": "0628f676",
   "metadata": {},
   "outputs": [],
   "source": [
    "df.to_csv('news.csv')"
   ]
  }
 ],
 "metadata": {
  "kernelspec": {
   "display_name": "Python 3 (ipykernel)",
   "language": "python",
   "name": "python3"
  },
  "language_info": {
   "codemirror_mode": {
    "name": "ipython",
    "version": 3
   },
   "file_extension": ".py",
   "mimetype": "text/x-python",
   "name": "python",
   "nbconvert_exporter": "python",
   "pygments_lexer": "ipython3",
   "version": "3.11.3"
  }
 },
 "nbformat": 4,
 "nbformat_minor": 5
}
